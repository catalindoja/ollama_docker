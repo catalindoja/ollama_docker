{
 "cells": [
  {
   "cell_type": "markdown",
   "metadata": {},
   "source": [
    "# Start coding "
   ]
  },
  {
   "cell_type": "code",
   "execution_count": 3,
   "metadata": {},
   "outputs": [
    {
     "name": "stdout",
     "output_type": "stream",
     "text": [
      "model='llama3.1' created_at='2024-12-18T09:45:11.419729162Z' done=True done_reason='stop' total_duration=4087975662 load_duration=2933562456 prompt_eval_count=21 prompt_eval_duration=131000000 eval_count=104 eval_duration=1022000000 message=Message(role='assistant', content=\"Nice to meet you, Tony Stark! *ahem* I mean, Iron Man. Ha ha, that's a clever introduction!\\n\\nAs for me, I'm doing great, thanks for asking! I'm an artificial intelligence designed to assist and chat with humans, so it's always a pleasure to interact with someone as brilliant and charismatic as yourself.\\n\\nSo, what brings you here today? Need any help with saving the world from another nefarious villain, or perhaps you'd like to discuss your latest suit upgrades?\", images=None, tool_calls=None)\n"
     ]
    }
   ],
   "source": [
    "import ollama\n",
    "\n",
    "response = ollama.chat(\n",
    "    model=\"llama3.1\",\n",
    "    messages=[\n",
    "        { \"role\": \"user\", \"content\": \"Hi my name is Ironman, how are you?\" }\n",
    "    ]\n",
    ")\n",
    "\n",
    "print(response)"
   ]
  },
  {
   "cell_type": "code",
   "execution_count": null,
   "metadata": {},
   "outputs": [],
   "source": []
  }
 ],
 "metadata": {
  "kernelspec": {
   "display_name": "Python 3 (ipykernel)",
   "language": "python",
   "name": "python3"
  },
  "language_info": {
   "codemirror_mode": {
    "name": "ipython",
    "version": 3
   },
   "file_extension": ".py",
   "mimetype": "text/x-python",
   "name": "python",
   "nbconvert_exporter": "python",
   "pygments_lexer": "ipython3",
   "version": "3.11.0rc1"
  }
 },
 "nbformat": 4,
 "nbformat_minor": 4
}
